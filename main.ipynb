{
 "cells": [
  {
   "cell_type": "code",
   "execution_count": 181,
   "metadata": {},
   "outputs": [
    {
     "name": "stdout",
     "output_type": "stream",
     "text": [
      "Quantidade musicas padre: 20\n",
      "Quantidade musicas luisa: 20\n",
      "Total de músicas: 40\n"
     ]
    }
   ],
   "source": [
    "# import pandas as pd\n",
    "import os\n",
    "\n",
    "# QUANTIDADE DE MUSICAS DO PADRE\n",
    "pasta_musicas_padre = os.listdir(\"data/padre_fabio_de_melo\")\n",
    "quantidade_musicas_padre = 0\n",
    "for arquivos in pasta_musicas_padre:\n",
    "    quantidade_musicas_padre += 1\n",
    "    \n",
    "print(f\"Quantidade musicas padre: {quantidade_musicas_padre}\")\n",
    "\n",
    "# QUANTIDADE DE MUSICAS DA\n",
    "pasta_musicas_luisa = os.listdir(\"data/luisa_sonza\")\n",
    "quantidade_musicas_luisa = 0\n",
    "for arquivos in pasta_musicas_luisa: \n",
    "    quantidade_musicas_luisa += 1\n",
    "    \n",
    "print(f\"Quantidade musicas luisa: {quantidade_musicas_luisa}\")\n",
    "\n",
    "# TOTAL DE MUSICAS\n",
    "total_musicas = quantidade_musicas_padre + quantidade_musicas_luisa\n",
    "print(f\"Total de músicas: {total_musicas}\")"
   ]
  },
  {
   "cell_type": "code",
   "execution_count": 182,
   "metadata": {},
   "outputs": [],
   "source": [
    "def separa_e_arruma(frase):\n",
    "    frase = frase.replace(',', '')\n",
    "    frase = frase.replace(':', '')\n",
    "    frase = frase.replace(';', '')\n",
    "    frase = frase.replace('!', '')\n",
    "    frase = frase.replace('?', '')\n",
    "    frase = frase.replace(',', '')\n",
    "    frase = frase.replace(',', '')\n",
    "    frase = frase.replace('.', '')\n",
    "    frase = frase.replace('(', '')\n",
    "    frase = frase.replace(')', '')\n",
    "    frase = frase.lower()\n",
    "    lista_palavras = frase.split()\n",
    "    return lista_palavras"
   ]
  },
  {
   "cell_type": "code",
   "execution_count": 183,
   "metadata": {},
   "outputs": [
    {
     "name": "stdout",
     "output_type": "stream",
     "text": [
      "['a', 'dor', 'faz', 'parte', 'do', 'cultivo', 'desta', 'fé', 'pois', 'só', 'sabe', 'o', 'que', 'se', 'quer', 'quem', 'luta', 'para', 'conseguir', 'ser', 'feliz']\n"
     ]
    }
   ],
   "source": [
    "frase = input('Insira a frase ou música escolhida: ')\n",
    "# se alguém mandar uma música tem que tirar os pontos, vírgulas, etc. para não dar erro\n",
    "lista_palavras = separa_e_arruma(frase)\n",
    "print(lista_palavras)"
   ]
  },
  {
   "cell_type": "code",
   "execution_count": 184,
   "metadata": {},
   "outputs": [
    {
     "name": "stdout",
     "output_type": "stream",
     "text": [
      "Aparição da palavra nas músicas do Padre: {'a': 20, 'dor': 10, 'faz': 5, 'parte': 2, 'do': 19, 'cultivo': 0, 'desta': 1, 'fé': 5, 'pois': 0, 'só': 4, 'sabe': 2, 'o': 20, 'que': 19, 'se': 20, 'quer': 6, 'quem': 3, 'luta': 1, 'para': 2, 'conseguir': 1, 'ser': 8, 'feliz': 1}\n",
      "Aparição da palavra nas músicas da Luísa: {'a': 20, 'dor': 7, 'faz': 14, 'parte': 0, 'do': 20, 'cultivo': 0, 'desta': 0, 'fé': 0, 'pois': 0, 'só': 6, 'sabe': 6, 'o': 20, 'que': 19, 'se': 20, 'quer': 9, 'quem': 7, 'luta': 0, 'para': 2, 'conseguir': 1, 'ser': 4, 'feliz': 0}\n",
      "APARIÇÃO TOTAL: {'a': 40, 'dor': 17, 'faz': 19, 'parte': 2, 'do': 39, 'cultivo': 0, 'desta': 1, 'fé': 5, 'pois': 0, 'só': 10, 'sabe': 8, 'o': 40, 'que': 38, 'se': 40, 'quer': 15, 'quem': 10, 'luta': 1, 'para': 4, 'conseguir': 2, 'ser': 12, 'feliz': 1}\n"
     ]
    }
   ],
   "source": [
    "dict_padre = {}\n",
    "dict_luisa = {}\n",
    "dict_total = {}\n",
    "\n",
    "for palavra in lista_palavras:\n",
    "    dict_padre[palavra] = 0\n",
    "\n",
    "# QUANTIDADE DE MÚSICAS DO PADRE\n",
    "pasta_musicas_padre = os.listdir(\"data/padre_fabio_de_melo\")\n",
    "aparicao_palavra_padre = 0\n",
    "for arquivos in pasta_musicas_padre:\n",
    "    with open(\"data/padre_fabio_de_melo/\" + arquivos,'r') as abrindo:\n",
    "        conteudo = abrindo.read()\n",
    "        for palavra in lista_palavras:\n",
    "            if palavra in conteudo:\n",
    "                dict_padre[palavra] += 1\n",
    "           \n",
    "\n",
    "print(f\"Aparição da palavra nas músicas do Padre: {dict_padre}\")\n",
    "\n",
    "for palavra in lista_palavras:\n",
    "    dict_luisa[palavra] = 0\n",
    "\n",
    "# QUANTIDADE DE MÚSICAS DA LUIZA\n",
    "pasta_musicas_luisa = os.listdir(\"data/luisa_sonza\")\n",
    "aparicao_palavra_luisa = 0\n",
    "for arquivos in pasta_musicas_luisa:\n",
    "    with open(\"data/luisa_sonza/\" + arquivos,'r') as abrindo:\n",
    "        conteudo = abrindo.read()\n",
    "        for palavra in lista_palavras:\n",
    "            if palavra in conteudo:\n",
    "                dict_luisa[palavra] += 1\n",
    "\n",
    "print(f\"Aparição da palavra nas músicas da Luísa: {dict_luisa}\")\n",
    "\n",
    "for palavra in lista_palavras:\n",
    "    dict_total[palavra] = dict_padre[palavra] + dict_luisa[palavra]\n",
    "\n",
    "print(f\"APARIÇÃO TOTAL: {dict_total}\")\n"
   ]
  },
  {
   "cell_type": "code",
   "execution_count": 185,
   "metadata": {},
   "outputs": [
    {
     "name": "stdout",
     "output_type": "stream",
     "text": [
      "Probabilidade palavra: {'a': 1.0, 'dor': 0.425, 'faz': 0.475, 'parte': 0.05, 'do': 0.975, 'cultivo': 0.0, 'desta': 0.025, 'fé': 0.125, 'pois': 0.0, 'só': 0.25, 'sabe': 0.2, 'o': 1.0, 'que': 0.95, 'se': 1.0, 'quer': 0.375, 'quem': 0.25, 'luta': 0.025, 'para': 0.1, 'conseguir': 0.05, 'ser': 0.3, 'feliz': 0.025}\n",
      "Probabilidade não palavra: {'a': 0.0, 'dor': 0.575, 'faz': 0.525, 'parte': 0.95, 'do': 0.025000000000000022, 'cultivo': 1.0, 'desta': 0.975, 'fé': 0.875, 'pois': 1.0, 'só': 0.75, 'sabe': 0.8, 'o': 0.0, 'que': 0.050000000000000044, 'se': 0.0, 'quer': 0.625, 'quem': 0.75, 'luta': 0.975, 'para': 0.9, 'conseguir': 0.95, 'ser': 0.7, 'feliz': 0.975}\n",
      "Probabilidade palavra dado luisa: {'a': 1.0, 'dor': 0.35, 'faz': 0.7, 'parte': 0.0, 'do': 1.0, 'cultivo': 0.0, 'desta': 0.0, 'fé': 0.0, 'pois': 0.0, 'só': 0.3, 'sabe': 0.3, 'o': 1.0, 'que': 0.95, 'se': 1.0, 'quer': 0.45, 'quem': 0.35, 'luta': 0.0, 'para': 0.1, 'conseguir': 0.05, 'ser': 0.2, 'feliz': 0.0}\n",
      "Probabilidade não palavra dado luisa: {'a': 0.0, 'dor': 0.65, 'faz': 0.30000000000000004, 'parte': 1.0, 'do': 0.0, 'cultivo': 1.0, 'desta': 1.0, 'fé': 1.0, 'pois': 1.0, 'só': 0.7, 'sabe': 0.7, 'o': 0.0, 'que': 0.050000000000000044, 'se': 0.0, 'quer': 0.55, 'quem': 0.65, 'luta': 1.0, 'para': 0.9, 'conseguir': 0.95, 'ser': 0.8, 'feliz': 1.0}\n",
      "Probabilidade palavra dado padre: {'a': 1.0, 'dor': 0.5, 'faz': 0.25, 'parte': 0.1, 'do': 0.95, 'cultivo': 0.0, 'desta': 0.05, 'fé': 0.25, 'pois': 0.0, 'só': 0.2, 'sabe': 0.1, 'o': 1.0, 'que': 0.95, 'se': 1.0, 'quer': 0.3, 'quem': 0.15, 'luta': 0.05, 'para': 0.1, 'conseguir': 0.05, 'ser': 0.4, 'feliz': 0.05}\n",
      "Probabilidade não palavra dado padre: {'a': 0.0, 'dor': 0.5, 'faz': 0.75, 'parte': 0.9, 'do': 0.050000000000000044, 'cultivo': 1.0, 'desta': 0.95, 'fé': 0.75, 'pois': 1.0, 'só': 0.8, 'sabe': 0.9, 'o': 0.0, 'que': 0.050000000000000044, 'se': 0.0, 'quer': 0.7, 'quem': 0.85, 'luta': 0.95, 'para': 0.9, 'conseguir': 0.95, 'ser': 0.6, 'feliz': 0.95}\n"
     ]
    }
   ],
   "source": [
    "dict_p_palavra = {}\n",
    "for palavra in lista_palavras:\n",
    "    dict_p_palavra[palavra] = dict_total[palavra] / total_musicas\n",
    "\n",
    "print(f'Probabilidade palavra: {dict_p_palavra}')\n",
    "\n",
    "dict_p_nao_palavra = {}\n",
    "for palavra in lista_palavras:\n",
    "    dict_p_nao_palavra[palavra] = 1 - dict_p_palavra[palavra]\n",
    "\n",
    "print(f'Probabilidade não palavra: {dict_p_nao_palavra}')\n",
    "\n",
    "#Contas\n",
    "p_padre = quantidade_musicas_padre / total_musicas\n",
    "p_luisa = quantidade_musicas_luisa / total_musicas\n",
    "\n",
    "#LUISA\n",
    "dict_p_palavra_dado_luisa = {}\n",
    "for palavra in lista_palavras:\n",
    "    dict_p_palavra_dado_luisa[palavra] = dict_luisa[palavra] / quantidade_musicas_luisa\n",
    "\n",
    "dict_p_nao_palavra_dado_luisa = {}\n",
    "for palavra in lista_palavras:\n",
    "    dict_p_nao_palavra_dado_luisa[palavra] = 1 - dict_p_palavra_dado_luisa[palavra]\n",
    "\n",
    "print(f'Probabilidade palavra dado luisa: {dict_p_palavra_dado_luisa}')\n",
    "print(f'Probabilidade não palavra dado luisa: {dict_p_nao_palavra_dado_luisa}')\n",
    "\n",
    "\n",
    "#PADRE\n",
    "dict_p_palavra_dado_padre = {}\n",
    "for palavra in lista_palavras:\n",
    "    dict_p_palavra_dado_padre[palavra] = dict_padre[palavra] / quantidade_musicas_padre\n",
    "\n",
    "dict_p_nao_palavra_dado_padre = {}\n",
    "for palavra in lista_palavras:\n",
    "    dict_p_nao_palavra_dado_padre[palavra] = 1 - dict_p_palavra_dado_padre[palavra]\n",
    "\n",
    "print(f'Probabilidade palavra dado padre: {dict_p_palavra_dado_padre}')\n",
    "print(f'Probabilidade não palavra dado padre: {dict_p_nao_palavra_dado_padre}')\n"
   ]
  },
  {
   "cell_type": "code",
   "execution_count": 186,
   "metadata": {},
   "outputs": [
    {
     "name": "stdout",
     "output_type": "stream",
     "text": [
      "1.6285232216506802\n",
      "2.4711915535444957\n"
     ]
    }
   ],
   "source": [
    "import math \n",
    "\n",
    "numerador_luisa = 1\n",
    "denominador_luisa = 1\n",
    "for palavra in lista_palavras:\n",
    "    if dict_p_palavra_dado_luisa[palavra] == 0:\n",
    "        numerador_luisa *= dict_p_nao_palavra_dado_luisa[palavra]\n",
    "        denominador_luisa *= dict_p_nao_palavra[palavra]\n",
    "    else:\n",
    "        numerador_luisa *= dict_p_palavra_dado_luisa[palavra]\n",
    "        denominador_luisa *= dict_p_palavra[palavra]\n",
    "\n",
    "p_luisa_dado_frase = (numerador_luisa * p_luisa) / denominador_luisa\n",
    "print(p_luisa_dado_frase)\n",
    "\n",
    "numerador_padre = 1\n",
    "denominador_padre = 1\n",
    "for palavra in lista_palavras:\n",
    "    if dict_p_palavra_dado_padre[palavra] == 0:\n",
    "        numerador_padre *= dict_p_nao_palavra_dado_padre[palavra]\n",
    "        denominador_padre *= dict_p_nao_palavra[palavra]\n",
    "    else:\n",
    "        numerador_padre *= dict_p_palavra_dado_padre[palavra]\n",
    "        denominador_padre *= dict_p_palavra[palavra]\n",
    "\n",
    "p_padre_dado_frase = (numerador_padre * p_padre) / denominador_padre\n",
    "print(p_padre_dado_frase)"
   ]
  }
 ],
 "metadata": {
  "kernelspec": {
   "display_name": ".venv",
   "language": "python",
   "name": "python3"
  },
  "language_info": {
   "codemirror_mode": {
    "name": "ipython",
    "version": 3
   },
   "file_extension": ".py",
   "mimetype": "text/x-python",
   "name": "python",
   "nbconvert_exporter": "python",
   "pygments_lexer": "ipython3",
   "version": "3.9.6"
  },
  "orig_nbformat": 4
 },
 "nbformat": 4,
 "nbformat_minor": 2
}
