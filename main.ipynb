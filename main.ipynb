{
 "cells": [
  {
   "cell_type": "code",
   "execution_count": 20,
   "metadata": {},
   "outputs": [
    {
     "name": "stdout",
     "output_type": "stream",
     "text": [
      "10\n",
      "10\n"
     ]
    }
   ],
   "source": [
    "import pandas as pd\n",
    "import os\n",
    "\n",
    "# QUANTIDADE DE MUSICAS DO PADRE\n",
    "pasta_musicas_padre = os.listdir(\"data/padre_fabio_de_melo\")\n",
    "quantidade_musicas_padre = 0\n",
    "for arquivos in pasta_musicas_padre:\n",
    "    quantidade_musicas_padre += 1\n",
    "    \n",
    "print(quantidade_musicas_padre)\n",
    "\n",
    "# QUANTIDADE DE MUSICAS DA\n",
    "pasta_musicas_luisa = os.listdir(\"data/luisa_sonza\")\n",
    "quantidade_musicas_luisa = 0\n",
    "for arquivos in pasta_musicas_luisa: \n",
    "    quantidade_musicas_luisa += 1\n",
    "    \n",
    "print(quantidade_musicas_luisa) \n",
    "\n",
    "# TOTAL DE MUSICAS\n",
    "total_musicas = quantidade_musicas_padre + quantidade_musicas_luisa"
   ]
  },
  {
   "cell_type": "code",
   "execution_count": 36,
   "metadata": {},
   "outputs": [
    {
     "name": "stdout",
     "output_type": "stream",
     "text": [
      "4\n",
      "6\n"
     ]
    }
   ],
   "source": [
    "# QUANTIDADE DE MUSICAS DO PADRE\n",
    "pasta_musicas_padre = os.listdir(\"data/padre_fabio_de_melo\")\n",
    "aparicao_palavra_padre = 0\n",
    "for arquivos in pasta_musicas_padre:\n",
    "    with open(\"data/padre_fabio_de_melo/\" + arquivos,'r') as abrindo:\n",
    "        conteudo = abrindo.read()\n",
    "        if \"amor\" in conteudo:\n",
    "            aparicao_palavra_padre += 1\n",
    "\n",
    "print(aparicao_palavra_padre)\n",
    "\n",
    "# QUANTIDADE DE MUSICAS DO LUIZA\n",
    "pasta_musicas_luisa = os.listdir(\"data/luisa_sonza\")\n",
    "aparicao_palavra_luisa = 0\n",
    "for arquivos in pasta_musicas_luisa:\n",
    "    with open(\"data/luisa_sonza/\" + arquivos,'r') as abrindo:\n",
    "        conteudo = abrindo.read()\n",
    "        if \"amor\" in conteudo:\n",
    "            aparicao_palavra_luisa += 1\n",
    "\n",
    "print(aparicao_palavra_luisa)"
   ]
  },
  {
   "cell_type": "code",
   "execution_count": null,
   "metadata": {},
   "outputs": [],
   "source": []
  }
 ],
 "metadata": {
  "kernelspec": {
   "display_name": ".venv",
   "language": "python",
   "name": "python3"
  },
  "language_info": {
   "codemirror_mode": {
    "name": "ipython",
    "version": 3
   },
   "file_extension": ".py",
   "mimetype": "text/x-python",
   "name": "python",
   "nbconvert_exporter": "python",
   "pygments_lexer": "ipython3",
   "version": "3.10.9"
  },
  "orig_nbformat": 4
 },
 "nbformat": 4,
 "nbformat_minor": 2
}
