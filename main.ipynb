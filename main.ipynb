{
 "cells": [
  {
   "cell_type": "code",
   "execution_count": 7,
   "metadata": {},
   "outputs": [
    {
     "name": "stdout",
     "output_type": "stream",
     "text": [
      "Quantidade musicas padre: 20\n",
      "Quantidade musicas luisa: 20\n",
      "Total de músicas: 40\n"
     ]
    }
   ],
   "source": [
    "# import pandas as pd\n",
    "import os\n",
    "\n",
    "# QUANTIDADE DE MUSICAS DO PADRE\n",
    "pasta_musicas_padre = os.listdir(\"data/padre_fabio_de_melo\")\n",
    "quantidade_musicas_padre = 0\n",
    "for arquivos in pasta_musicas_padre:\n",
    "    quantidade_musicas_padre += 1\n",
    "    \n",
    "print(f\"Quantidade musicas padre: {quantidade_musicas_padre}\")\n",
    "\n",
    "# QUANTIDADE DE MUSICAS DA\n",
    "pasta_musicas_luisa = os.listdir(\"data/luisa_sonza\")\n",
    "quantidade_musicas_luisa = 0\n",
    "for arquivos in pasta_musicas_luisa: \n",
    "    quantidade_musicas_luisa += 1\n",
    "    \n",
    "print(f\"Quantidade musicas luisa: {quantidade_musicas_luisa}\")\n",
    "\n",
    "# TOTAL DE MUSICAS\n",
    "total_musicas = quantidade_musicas_padre + quantidade_musicas_luisa\n",
    "print(f\"Total de músicas: {total_musicas}\")"
   ]
  },
  {
   "cell_type": "code",
   "execution_count": 8,
   "metadata": {},
   "outputs": [],
   "source": [
    "def separa_e_arruma(frase):\n",
    "    frase = frase.replace(',', '')\n",
    "    frase = frase.replace(':', '')\n",
    "    frase = frase.replace(';', '')\n",
    "    frase = frase.replace('!', '')\n",
    "    frase = frase.replace('?', '')\n",
    "    frase = frase.replace(',', '')\n",
    "    frase = frase.replace(',', '')\n",
    "    frase = frase.replace('.', '')\n",
    "    frase = frase.replace('(', '')\n",
    "    frase = frase.replace(')', '')\n",
    "    frase = frase.lower()\n",
    "    lista_palavras = frase.split()\n",
    "    return lista_palavras"
   ]
  },
  {
   "cell_type": "code",
   "execution_count": 9,
   "metadata": {},
   "outputs": [
    {
     "name": "stdout",
     "output_type": "stream",
     "text": [
      "['eu', 'pensei', 'que', 'podia', 'viver', 'por', 'mim', 'mesmo', 'eu', 'pensei', 'que', 'as', 'coisas', 'do', 'mundo', 'não', 'iriam', 'me', 'derrubar']\n"
     ]
    }
   ],
   "source": [
    "frase = input('Insira a frase ou música escolhida: ')\n",
    "# se alguém mandar uma música tem que tirar os pontos, vírgulas, etc. para não dar erro\n",
    "lista_palavras = separa_e_arruma(frase)\n",
    "print(lista_palavras)"
   ]
  },
  {
   "cell_type": "code",
   "execution_count": 10,
   "metadata": {},
   "outputs": [
    {
     "name": "stdout",
     "output_type": "stream",
     "text": [
      "Aparição da palavra nas músicas do Padre: {'eu': 38, 'pensei': 2, 'que': 38, 'podia': 2, 'viver': 4, 'por': 6, 'mim': 11, 'mesmo': 2, 'as': 17, 'coisas': 2, 'do': 19, 'mundo': 3, 'não': 5, 'iriam': 1, 'me': 17, 'derrubar': 1}\n",
      "Aparição da palavra nas músicas da Luísa: {'eu': 40, 'pensei': 0, 'que': 38, 'podia': 1, 'viver': 2, 'por': 8, 'mim': 9, 'mesmo': 2, 'as': 19, 'coisas': 1, 'do': 20, 'mundo': 2, 'não': 14, 'iriam': 0, 'me': 20, 'derrubar': 0}\n",
      "APARIÇÃO TOTAL: {'eu': 78, 'pensei': 2, 'que': 76, 'podia': 3, 'viver': 6, 'por': 14, 'mim': 20, 'mesmo': 4, 'as': 36, 'coisas': 3, 'do': 39, 'mundo': 5, 'não': 19, 'iriam': 1, 'me': 37, 'derrubar': 1}\n"
     ]
    }
   ],
   "source": [
    "dict_padre = {}\n",
    "dict_luisa = {}\n",
    "dict_total = {}\n",
    "\n",
    "for palavra in lista_palavras:\n",
    "    dict_padre[palavra] = 0\n",
    "\n",
    "# QUANTIDADE DE MÚSICAS DO PADRE\n",
    "pasta_musicas_padre = os.listdir(\"data/padre_fabio_de_melo\")\n",
    "aparicao_palavra_padre = 0\n",
    "for arquivos in pasta_musicas_padre:\n",
    "    with open(\"data/padre_fabio_de_melo/\" + arquivos,'r') as abrindo:\n",
    "        conteudo = abrindo.read()\n",
    "        for palavra in lista_palavras:\n",
    "            if palavra in conteudo:\n",
    "                dict_padre[palavra] += 1\n",
    "           \n",
    "\n",
    "print(f\"Aparição da palavra nas músicas do Padre: {dict_padre}\")\n",
    "\n",
    "for palavra in lista_palavras:\n",
    "    dict_luisa[palavra] = 0\n",
    "\n",
    "# QUANTIDADE DE MÚSICAS DA LUIZA\n",
    "pasta_musicas_luisa = os.listdir(\"data/luisa_sonza\")\n",
    "aparicao_palavra_luisa = 0\n",
    "for arquivos in pasta_musicas_luisa:\n",
    "    with open(\"data/luisa_sonza/\" + arquivos,'r') as abrindo:\n",
    "        conteudo = abrindo.read()\n",
    "        for palavra in lista_palavras:\n",
    "            if palavra in conteudo:\n",
    "                dict_luisa[palavra] += 1\n",
    "\n",
    "print(f\"Aparição da palavra nas músicas da Luísa: {dict_luisa}\")\n",
    "\n",
    "for palavra in lista_palavras:\n",
    "    dict_total[palavra] = dict_padre[palavra] + dict_luisa[palavra]\n",
    "\n",
    "print(f\"APARIÇÃO TOTAL: {dict_total}\")\n"
   ]
  },
  {
   "cell_type": "code",
   "execution_count": 11,
   "metadata": {},
   "outputs": [
    {
     "name": "stdout",
     "output_type": "stream",
     "text": [
      "Probabilidade palavra: {'eu': 1.95, 'pensei': 0.05, 'que': 1.9, 'podia': 0.075, 'viver': 0.15, 'por': 0.35, 'mim': 0.5, 'mesmo': 0.1, 'as': 0.9, 'coisas': 0.075, 'do': 0.975, 'mundo': 0.125, 'não': 0.475, 'iriam': 0.025, 'me': 0.925, 'derrubar': 0.025}\n",
      "Probabilidade não palavra: {'eu': -0.95, 'pensei': 0.95, 'que': -0.8999999999999999, 'podia': 0.925, 'viver': 0.85, 'por': 0.65, 'mim': 0.5, 'mesmo': 0.9, 'as': 0.09999999999999998, 'coisas': 0.925, 'do': 0.025000000000000022, 'mundo': 0.875, 'não': 0.525, 'iriam': 0.975, 'me': 0.07499999999999996, 'derrubar': 0.975}\n",
      "Probabilidade palavra dado luisa: {'eu': 2.0, 'pensei': 0.0, 'que': 1.9, 'podia': 0.05, 'viver': 0.1, 'por': 0.4, 'mim': 0.45, 'mesmo': 0.1, 'as': 0.95, 'coisas': 0.05, 'do': 1.0, 'mundo': 0.1, 'não': 0.7, 'iriam': 0.0, 'me': 1.0, 'derrubar': 0.0}\n",
      "Probabilidade não palavra dado luisa: {'eu': -1.0, 'pensei': 1.0, 'que': -0.8999999999999999, 'podia': 0.95, 'viver': 0.9, 'por': 0.6, 'mim': 0.55, 'mesmo': 0.9, 'as': 0.050000000000000044, 'coisas': 0.95, 'do': 0.0, 'mundo': 0.9, 'não': 0.30000000000000004, 'iriam': 1.0, 'me': 0.0, 'derrubar': 1.0}\n",
      "Probabilidade palavra dado padre: {'eu': 1.9, 'pensei': 0.1, 'que': 1.9, 'podia': 0.1, 'viver': 0.2, 'por': 0.3, 'mim': 0.55, 'mesmo': 0.1, 'as': 0.85, 'coisas': 0.1, 'do': 0.95, 'mundo': 0.15, 'não': 0.25, 'iriam': 0.05, 'me': 0.85, 'derrubar': 0.05}\n",
      "Probabilidade não palavra dado padre: {'eu': -0.8999999999999999, 'pensei': 0.9, 'que': -0.8999999999999999, 'podia': 0.9, 'viver': 0.8, 'por': 0.7, 'mim': 0.44999999999999996, 'mesmo': 0.9, 'as': 0.15000000000000002, 'coisas': 0.9, 'do': 0.050000000000000044, 'mundo': 0.85, 'não': 0.75, 'iriam': 0.95, 'me': 0.15000000000000002, 'derrubar': 0.95}\n"
     ]
    }
   ],
   "source": [
    "dict_p_palavra = {}\n",
    "for palavra in lista_palavras:\n",
    "    dict_p_palavra[palavra] = dict_total[palavra] / total_musicas\n",
    "\n",
    "print(f'Probabilidade palavra: {dict_p_palavra}')\n",
    "\n",
    "dict_p_nao_palavra = {}\n",
    "for palavra in lista_palavras:\n",
    "    dict_p_nao_palavra[palavra] = 1 - dict_p_palavra[palavra]\n",
    "\n",
    "print(f'Probabilidade não palavra: {dict_p_nao_palavra}')\n",
    "\n",
    "#Contas\n",
    "p_padre = quantidade_musicas_padre / total_musicas\n",
    "p_luisa = quantidade_musicas_luisa / total_musicas\n",
    "\n",
    "#LUISA\n",
    "dict_p_palavra_dado_luisa = {}\n",
    "for palavra in lista_palavras:\n",
    "    dict_p_palavra_dado_luisa[palavra] = dict_luisa[palavra] / quantidade_musicas_luisa\n",
    "\n",
    "dict_p_nao_palavra_dado_luisa = {}\n",
    "for palavra in lista_palavras:\n",
    "    dict_p_nao_palavra_dado_luisa[palavra] = 1 - dict_p_palavra_dado_luisa[palavra]\n",
    "\n",
    "print(f'Probabilidade palavra dado luisa: {dict_p_palavra_dado_luisa}')\n",
    "print(f'Probabilidade não palavra dado luisa: {dict_p_nao_palavra_dado_luisa}')\n",
    "\n",
    "\n",
    "#PADRE\n",
    "dict_p_palavra_dado_padre = {}\n",
    "for palavra in lista_palavras:\n",
    "    dict_p_palavra_dado_padre[palavra] = dict_padre[palavra] / quantidade_musicas_padre\n",
    "\n",
    "dict_p_nao_palavra_dado_padre = {}\n",
    "for palavra in lista_palavras:\n",
    "    dict_p_nao_palavra_dado_padre[palavra] = 1 - dict_p_palavra_dado_padre[palavra]\n",
    "\n",
    "print(f'Probabilidade palavra dado padre: {dict_p_palavra_dado_padre}')\n",
    "print(f'Probabilidade não palavra dado padre: {dict_p_nao_palavra_dado_padre}')\n"
   ]
  },
  {
   "cell_type": "code",
   "execution_count": 12,
   "metadata": {},
   "outputs": [
    {
     "name": "stdout",
     "output_type": "stream",
     "text": [
      "0.25780668527646505\n",
      "9.065469799898906\n"
     ]
    }
   ],
   "source": [
    "import math \n",
    "\n",
    "numerador_luisa = 1\n",
    "denominador_luisa = 1\n",
    "for palavra in lista_palavras:\n",
    "    if dict_p_palavra_dado_luisa[palavra] == 0:\n",
    "        numerador_luisa *= dict_p_nao_palavra_dado_luisa[palavra]\n",
    "        denominador_luisa *= dict_p_nao_palavra[palavra]\n",
    "    else:\n",
    "        numerador_luisa *= dict_p_palavra_dado_luisa[palavra]\n",
    "        denominador_luisa *= dict_p_palavra[palavra]\n",
    "\n",
    "p_luisa_dado_frase = (numerador_luisa * p_luisa) / denominador_luisa\n",
    "print(p_luisa_dado_frase)\n",
    "\n",
    "numerador_padre = 1\n",
    "denominador_padre = 1\n",
    "for palavra in lista_palavras:\n",
    "    if dict_p_palavra_dado_padre[palavra] == 0:\n",
    "        numerador_padre *= dict_p_nao_palavra_dado_padre[palavra]\n",
    "        denominador_padre *= dict_p_nao_palavra[palavra]\n",
    "    else:\n",
    "        numerador_padre *= dict_p_palavra_dado_padre[palavra]\n",
    "        denominador_padre *= dict_p_palavra[palavra]\n",
    "\n",
    "p_padre_dado_frase = (numerador_padre * p_padre) / denominador_padre\n",
    "print(p_padre_dado_frase)"
   ]
  },
  {
   "cell_type": "code",
   "execution_count": null,
   "metadata": {},
   "outputs": [],
   "source": []
  }
 ],
 "metadata": {
  "kernelspec": {
   "display_name": ".venv",
   "language": "python",
   "name": "python3"
  },
  "language_info": {
   "codemirror_mode": {
    "name": "ipython",
    "version": 3
   },
   "file_extension": ".py",
   "mimetype": "text/x-python",
   "name": "python",
   "nbconvert_exporter": "python",
   "pygments_lexer": "ipython3",
   "version": "3.9.6"
  },
  "orig_nbformat": 4
 },
 "nbformat": 4,
 "nbformat_minor": 2
}
