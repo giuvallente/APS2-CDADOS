{
 "cells": [
  {
   "cell_type": "code",
   "execution_count": 3,
   "metadata": {},
   "outputs": [
    {
     "name": "stdout",
     "output_type": "stream",
     "text": [
      "Quantidade musicas padre: 10\n",
      "Quantidade musicas luisa: 10\n",
      "Total de músicas: 20\n"
     ]
    }
   ],
   "source": [
    "import pandas as pd\n",
    "import os\n",
    "\n",
    "# QUANTIDADE DE MUSICAS DO PADRE\n",
    "pasta_musicas_padre = os.listdir(\"data/padre_fabio_de_melo\")\n",
    "quantidade_musicas_padre = 0\n",
    "for arquivos in pasta_musicas_padre:\n",
    "    quantidade_musicas_padre += 1\n",
    "    \n",
    "print(f\"Quantidade musicas padre: {quantidade_musicas_padre}\")\n",
    "\n",
    "# QUANTIDADE DE MUSICAS DA\n",
    "pasta_musicas_luisa = os.listdir(\"data/luisa_sonza\")\n",
    "quantidade_musicas_luisa = 0\n",
    "for arquivos in pasta_musicas_luisa: \n",
    "    quantidade_musicas_luisa += 1\n",
    "    \n",
    "print(f\"Quantidade musicas luisa: {quantidade_musicas_luisa}\")\n",
    "\n",
    "# TOTAL DE MUSICAS\n",
    "total_musicas = quantidade_musicas_padre + quantidade_musicas_luisa\n",
    "print(f\"Total de músicas: {total_musicas}\")"
   ]
  },
  {
   "cell_type": "code",
   "execution_count": 7,
   "metadata": {},
   "outputs": [
    {
     "name": "stdout",
     "output_type": "stream",
     "text": [
      "Aparição da Palavra: 4\n",
      "Aparição da Palavra: 6\n",
      "APARIÇÃO TOTAL: 10\n"
     ]
    }
   ],
   "source": [
    "# QUANTIDADE DE MUSICAS DO PADRE\n",
    "pasta_musicas_padre = os.listdir(\"data/padre_fabio_de_melo\")\n",
    "aparicao_palavra_padre = 0\n",
    "for arquivos in pasta_musicas_padre:\n",
    "    with open(\"data/padre_fabio_de_melo/\" + arquivos,'r') as abrindo:\n",
    "        conteudo = abrindo.read()\n",
    "        if \"amor\" in conteudo:\n",
    "            aparicao_palavra_padre += 1\n",
    "\n",
    "print(f\"Aparição da Palavra: {aparicao_palavra_padre}\")\n",
    "\n",
    "# QUANTIDADE DE MUSICAS DO LUIZA\n",
    "pasta_musicas_luisa = os.listdir(\"data/luisa_sonza\")\n",
    "aparicao_palavra_luisa = 0\n",
    "for arquivos in pasta_musicas_luisa:\n",
    "    with open(\"data/luisa_sonza/\" + arquivos,'r') as abrindo:\n",
    "        conteudo = abrindo.read()\n",
    "        if \"amor\" in conteudo:\n",
    "            aparicao_palavra_luisa += 1\n",
    "\n",
    "print(f\"Aparição da Palavra: {aparicao_palavra_luisa}\")\n",
    "\n",
    "total_aparicao = aparicao_palavra_padre + aparicao_palavra_luisa\n",
    "\n",
    "print(f\"APARIÇÃO TOTAL: {total_aparicao}\")\n"
   ]
  },
  {
   "cell_type": "code",
   "execution_count": 8,
   "metadata": {},
   "outputs": [],
   "source": [
    "p_amor = total_aparicao / total_musicas\n",
    "\n",
    "p_nao_amor = 1 - p_amor\n",
    "# Contas\n",
    "p_padre = quantidade_musicas_padre / total_musicas\n",
    "p_luisa = quantidade_musicas_luisa / total_musicas\n",
    "\n",
    "# LUISA\n",
    "p_amor_dado_luisa = aparicao_palavra_luisa / quantidade_musicas_luisa\n",
    "p_nao_amor_dado_luisa = 1 - p_amor_dado_luisa\n",
    "\n",
    "# PADRE\n",
    "p_amor_dado_padre = aparicao_palavra_padre / quantidade_musicas_padre\n",
    "p_nao_amor_dado_padre = 1 - p_amor_dado_padre"
   ]
  },
  {
   "cell_type": "code",
   "execution_count": 15,
   "metadata": {},
   "outputs": [
    {
     "name": "stdout",
     "output_type": "stream",
     "text": [
      "PROBABILIDADE DE LUISA DADO AMOR: 0.6\n",
      "PROBABILIDADE DE PADRE DADO AMOR: 0.4\n"
     ]
    }
   ],
   "source": [
    "p_luisa_dado_amor = (p_amor_dado_luisa * p_luisa) / p_amor\n",
    "p_padre_dado_amor = (p_amor_dado_padre * p_padre) / p_amor\n",
    "\n",
    "print(f\"PROBABILIDADE DE LUISA DADO AMOR: {p_luisa_dado_amor}\")\n",
    "print(f\"PROBABILIDADE DE PADRE DADO AMOR: {p_padre_dado_amor}\")\n"
   ]
  },
  {
   "cell_type": "code",
   "execution_count": null,
   "metadata": {},
   "outputs": [],
   "source": []
  }
 ],
 "metadata": {
  "kernelspec": {
   "display_name": ".venv",
   "language": "python",
   "name": "python3"
  },
  "language_info": {
   "codemirror_mode": {
    "name": "ipython",
    "version": 3
   },
   "file_extension": ".py",
   "mimetype": "text/x-python",
   "name": "python",
   "nbconvert_exporter": "python",
   "pygments_lexer": "ipython3",
   "version": "3.10.9"
  },
  "orig_nbformat": 4
 },
 "nbformat": 4,
 "nbformat_minor": 2
}
