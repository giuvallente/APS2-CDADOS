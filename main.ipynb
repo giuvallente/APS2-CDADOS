{
 "cells": [
  {
   "cell_type": "code",
   "execution_count": 7,
   "metadata": {},
   "outputs": [
    {
     "name": "stdout",
     "output_type": "stream",
     "text": [
      "Quantidade musicas padre: 10\n",
      "Quantidade musicas luisa: 10\n",
      "Total de músicas: 20\n"
     ]
    }
   ],
   "source": [
    "# import pandas as pd\n",
    "import os\n",
    "\n",
    "# QUANTIDADE DE MUSICAS DO PADRE\n",
    "pasta_musicas_padre = os.listdir(\"data/padre_fabio_de_melo\")\n",
    "quantidade_musicas_padre = 0\n",
    "for arquivos in pasta_musicas_padre:\n",
    "    quantidade_musicas_padre += 1\n",
    "    \n",
    "print(f\"Quantidade musicas padre: {quantidade_musicas_padre}\")\n",
    "\n",
    "# QUANTIDADE DE MUSICAS DA\n",
    "pasta_musicas_luisa = os.listdir(\"data/luisa_sonza\")\n",
    "quantidade_musicas_luisa = 0\n",
    "for arquivos in pasta_musicas_luisa: \n",
    "    quantidade_musicas_luisa += 1\n",
    "    \n",
    "print(f\"Quantidade musicas luisa: {quantidade_musicas_luisa}\")\n",
    "\n",
    "# TOTAL DE MUSICAS\n",
    "total_musicas = quantidade_musicas_padre + quantidade_musicas_luisa\n",
    "print(f\"Total de músicas: {total_musicas}\")"
   ]
  },
  {
   "cell_type": "code",
   "execution_count": 8,
   "metadata": {},
   "outputs": [],
   "source": [
    "def separa_e_arruma(frase):\n",
    "    frase = frase.replace(',', '')\n",
    "    frase = frase.replace(':', '')\n",
    "    frase = frase.replace(';', '')\n",
    "    frase = frase.replace('!', '')\n",
    "    frase = frase.replace('?', '')\n",
    "    frase = frase.replace(',', '')\n",
    "    frase = frase.replace(',', '')\n",
    "    frase = frase.replace('.', '')\n",
    "    frase = frase.replace('(', '')\n",
    "    frase = frase.replace(')', '')\n",
    "    frase = frase.lower()\n",
    "    lista_palavras = frase.split()\n",
    "    return lista_palavras"
   ]
  },
  {
   "cell_type": "code",
   "execution_count": 9,
   "metadata": {},
   "outputs": [
    {
     "name": "stdout",
     "output_type": "stream",
     "text": [
      "['temos', 'pedigree', 'coleira', 'cara', 'meu', 'perfume', 'caro', 'atiça', 'o', 'faro', 'dos', 'vira-lata']\n"
     ]
    }
   ],
   "source": [
    "frase = input('Insira a frase ou música escolhida: ')\n",
    "# se alguém mandar uma música tem que tirar os pontos, vírgulas, etc. para não dar erro\n",
    "lista_palavras = separa_e_arruma(frase)\n",
    "print(lista_palavras)"
   ]
  },
  {
   "cell_type": "code",
   "execution_count": 10,
   "metadata": {},
   "outputs": [
    {
     "name": "stdout",
     "output_type": "stream",
     "text": [
      "Aparição da palavra nas músicas do Padre: {'temos': 0, 'pedigree': 0, 'coleira': 0, 'cara': 0, 'meu': 5, 'perfume': 0, 'caro': 0, 'atiça': 0, 'o': 10, 'faro': 1, 'dos': 1, 'vira-lata': 0}\n",
      "Aparição da palavra nas músicas da Luísa: {'temos': 0, 'pedigree': 0, 'coleira': 0, 'cara': 3, 'meu': 6, 'perfume': 0, 'caro': 1, 'atiça': 0, 'o': 10, 'faro': 0, 'dos': 1, 'vira-lata': 0}\n",
      "APARIÇÃO TOTAL: {'temos': 0, 'pedigree': 0, 'coleira': 0, 'cara': 3, 'meu': 11, 'perfume': 0, 'caro': 1, 'atiça': 0, 'o': 20, 'faro': 1, 'dos': 2, 'vira-lata': 0}\n"
     ]
    }
   ],
   "source": [
    "dict_padre = {}\n",
    "dict_luisa = {}\n",
    "dict_total = {}\n",
    "\n",
    "for palavra in lista_palavras:\n",
    "    dict_padre[palavra] = 0\n",
    "\n",
    "# QUANTIDADE DE MÚSICAS DO PADRE\n",
    "pasta_musicas_padre = os.listdir(\"data/padre_fabio_de_melo\")\n",
    "aparicao_palavra_padre = 0\n",
    "for arquivos in pasta_musicas_padre:\n",
    "    with open(\"data/padre_fabio_de_melo/\" + arquivos,'r') as abrindo:\n",
    "        conteudo = abrindo.read()\n",
    "        for palavra in lista_palavras:\n",
    "            if palavra in conteudo:\n",
    "                dict_padre[palavra] += 1\n",
    "           \n",
    "\n",
    "print(f\"Aparição da palavra nas músicas do Padre: {dict_padre}\")\n",
    "\n",
    "for palavra in lista_palavras:\n",
    "    dict_luisa[palavra] = 0\n",
    "\n",
    "# QUANTIDADE DE MÚSICAS DA LUIZA\n",
    "pasta_musicas_luisa = os.listdir(\"data/luisa_sonza\")\n",
    "aparicao_palavra_luisa = 0\n",
    "for arquivos in pasta_musicas_luisa:\n",
    "    with open(\"data/luisa_sonza/\" + arquivos,'r') as abrindo:\n",
    "        conteudo = abrindo.read()\n",
    "        for palavra in lista_palavras:\n",
    "            if palavra in conteudo:\n",
    "                dict_luisa[palavra] += 1\n",
    "\n",
    "print(f\"Aparição da palavra nas músicas da Luísa: {dict_luisa}\")\n",
    "\n",
    "for palavra in lista_palavras:\n",
    "    dict_total[palavra] = dict_padre[palavra] + dict_luisa[palavra]\n",
    "\n",
    "print(f\"APARIÇÃO TOTAL: {dict_total}\")\n"
   ]
  },
  {
   "cell_type": "code",
   "execution_count": 11,
   "metadata": {},
   "outputs": [
    {
     "name": "stdout",
     "output_type": "stream",
     "text": [
      "Probabilidade palavra: {'temos': 0.0, 'pedigree': 0.0, 'coleira': 0.0, 'cara': 0.15, 'meu': 0.55, 'perfume': 0.0, 'caro': 0.05, 'atiça': 0.0, 'o': 1.0, 'faro': 0.05, 'dos': 0.1, 'vira-lata': 0.0}\n",
      "Probabilidade não palavra: {'temos': 1.0, 'pedigree': 1.0, 'coleira': 1.0, 'cara': 0.85, 'meu': 0.44999999999999996, 'perfume': 1.0, 'caro': 0.95, 'atiça': 1.0, 'o': 0.0, 'faro': 0.95, 'dos': 0.9, 'vira-lata': 1.0}\n",
      "Probabilidade palavra dado luisa: {'temos': 0.0, 'pedigree': 0.0, 'coleira': 0.0, 'cara': 0.3, 'meu': 0.6, 'perfume': 0.0, 'caro': 0.1, 'atiça': 0.0, 'o': 1.0, 'faro': 0.0, 'dos': 0.1, 'vira-lata': 0.0}\n",
      "Probabilidade não palavra dado luisa: {'temos': 1.0, 'pedigree': 1.0, 'coleira': 1.0, 'cara': 0.7, 'meu': 0.4, 'perfume': 1.0, 'caro': 0.9, 'atiça': 1.0, 'o': 0.0, 'faro': 1.0, 'dos': 0.9, 'vira-lata': 1.0}\n",
      "Probabilidade palavra dado padre: {'temos': 0.0, 'pedigree': 0.0, 'coleira': 0.0, 'cara': 0.0, 'meu': 0.5, 'perfume': 0.0, 'caro': 0.0, 'atiça': 0.0, 'o': 1.0, 'faro': 0.1, 'dos': 0.1, 'vira-lata': 0.0}\n",
      "Probabilidade não palavra dado padre: {'temos': 1.0, 'pedigree': 1.0, 'coleira': 1.0, 'cara': 1.0, 'meu': 0.5, 'perfume': 1.0, 'caro': 1.0, 'atiça': 1.0, 'o': 0.0, 'faro': 0.9, 'dos': 0.9, 'vira-lata': 1.0}\n"
     ]
    }
   ],
   "source": [
    "dict_p_palavra = {}\n",
    "for palavra in lista_palavras:\n",
    "    dict_p_palavra[palavra] = dict_total[palavra] / total_musicas\n",
    "\n",
    "print(f'Probabilidade palavra: {dict_p_palavra}')\n",
    "\n",
    "dict_p_nao_palavra = {}\n",
    "for palavra in lista_palavras:\n",
    "    dict_p_nao_palavra[palavra] = 1 - dict_p_palavra[palavra]\n",
    "\n",
    "print(f'Probabilidade não palavra: {dict_p_nao_palavra}')\n",
    "\n",
    "#Contas\n",
    "p_padre = quantidade_musicas_padre / total_musicas\n",
    "p_luisa = quantidade_musicas_luisa / total_musicas\n",
    "\n",
    "#LUISA\n",
    "dict_p_palavra_dado_luisa = {}\n",
    "for palavra in lista_palavras:\n",
    "    dict_p_palavra_dado_luisa[palavra] = dict_luisa[palavra] / quantidade_musicas_luisa\n",
    "\n",
    "dict_p_nao_palavra_dado_luisa = {}\n",
    "for palavra in lista_palavras:\n",
    "    dict_p_nao_palavra_dado_luisa[palavra] = 1 - dict_p_palavra_dado_luisa[palavra]\n",
    "\n",
    "print(f'Probabilidade palavra dado luisa: {dict_p_palavra_dado_luisa}')\n",
    "print(f'Probabilidade não palavra dado luisa: {dict_p_nao_palavra_dado_luisa}')\n",
    "\n",
    "\n",
    "#PADRE\n",
    "dict_p_palavra_dado_padre = {}\n",
    "for palavra in lista_palavras:\n",
    "    dict_p_palavra_dado_padre[palavra] = dict_padre[palavra] / quantidade_musicas_padre\n",
    "\n",
    "dict_p_nao_palavra_dado_padre = {}\n",
    "for palavra in lista_palavras:\n",
    "    dict_p_nao_palavra_dado_padre[palavra] = 1 - dict_p_palavra_dado_padre[palavra]\n",
    "\n",
    "print(f'Probabilidade palavra dado padre: {dict_p_palavra_dado_padre}')\n",
    "print(f'Probabilidade não palavra dado padre: {dict_p_nao_palavra_dado_padre}')\n"
   ]
  },
  {
   "cell_type": "code",
   "execution_count": 12,
   "metadata": {},
   "outputs": [
    {
     "name": "stdout",
     "output_type": "stream",
     "text": [
      "2.296650717703349\n",
      "1.1258091753447792\n"
     ]
    }
   ],
   "source": [
    "import math \n",
    "\n",
    "numerador_luisa = 1\n",
    "denominador_luisa = 1\n",
    "for palavra in lista_palavras:\n",
    "    if dict_p_palavra_dado_luisa[palavra] == 0:\n",
    "        numerador_luisa *= dict_p_nao_palavra_dado_luisa[palavra]\n",
    "        denominador_luisa *= dict_p_nao_palavra[palavra]\n",
    "    else:\n",
    "        numerador_luisa *= dict_p_palavra_dado_luisa[palavra]\n",
    "        denominador_luisa *= dict_p_palavra[palavra]\n",
    "\n",
    "p_luisa_dado_frase = (numerador_luisa * p_luisa) / denominador_luisa\n",
    "print(p_luisa_dado_frase)\n",
    "\n",
    "numerador_padre = 1\n",
    "denominador_padre = 1\n",
    "for palavra in lista_palavras:\n",
    "    if dict_p_palavra_dado_padre[palavra] == 0:\n",
    "        numerador_padre *= dict_p_nao_palavra_dado_padre[palavra]\n",
    "        denominador_padre *= dict_p_nao_palavra[palavra]\n",
    "    else:\n",
    "        numerador_padre *= dict_p_palavra_dado_padre[palavra]\n",
    "        denominador_padre *= dict_p_palavra[palavra]\n",
    "\n",
    "p_padre_dado_frase = (numerador_padre * p_padre) / denominador_padre\n",
    "print(p_padre_dado_frase)"
   ]
  }
 ],
 "metadata": {
  "kernelspec": {
   "display_name": ".venv",
   "language": "python",
   "name": "python3"
  },
  "language_info": {
   "codemirror_mode": {
    "name": "ipython",
    "version": 3
   },
   "file_extension": ".py",
   "mimetype": "text/x-python",
   "name": "python",
   "nbconvert_exporter": "python",
   "pygments_lexer": "ipython3",
   "version": "3.9.6"
  },
  "orig_nbformat": 4
 },
 "nbformat": 4,
 "nbformat_minor": 2
}
