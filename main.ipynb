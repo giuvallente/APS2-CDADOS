{
 "cells": [
  {
   "cell_type": "code",
   "execution_count": 12,
   "metadata": {},
   "outputs": [
    {
     "name": "stdout",
     "output_type": "stream",
     "text": [
      "Quantidade musicas padre: 10\n",
      "Quantidade musicas luisa: 10\n",
      "Total de músicas: 20\n"
     ]
    }
   ],
   "source": [
    "# import pandas as pd\n",
    "import os\n",
    "\n",
    "# QUANTIDADE DE MUSICAS DO PADRE\n",
    "pasta_musicas_padre = os.listdir(\"data/padre_fabio_de_melo\")\n",
    "quantidade_musicas_padre = 0\n",
    "for arquivos in pasta_musicas_padre:\n",
    "    quantidade_musicas_padre += 1\n",
    "    \n",
    "print(f\"Quantidade musicas padre: {quantidade_musicas_padre}\")\n",
    "\n",
    "# QUANTIDADE DE MUSICAS DA\n",
    "pasta_musicas_luisa = os.listdir(\"data/luisa_sonza\")\n",
    "quantidade_musicas_luisa = 0\n",
    "for arquivos in pasta_musicas_luisa: \n",
    "    quantidade_musicas_luisa += 1\n",
    "    \n",
    "print(f\"Quantidade musicas luisa: {quantidade_musicas_luisa}\")\n",
    "\n",
    "# TOTAL DE MUSICAS\n",
    "total_musicas = quantidade_musicas_padre + quantidade_musicas_luisa\n",
    "print(f\"Total de músicas: {total_musicas}\")"
   ]
  },
  {
   "cell_type": "code",
   "execution_count": null,
   "metadata": {},
   "outputs": [
    {
     "ename": "",
     "evalue": "",
     "output_type": "error",
     "traceback": [
      "\u001b[1;31mRunning cells with '/usr/local/bin/python3' requires the ipykernel package.\n",
      "\u001b[1;31mRun the following command to install 'ipykernel' into the Python environment. \n",
      "\u001b[1;31mCommand: '/usr/local/bin/python3 -m pip install ipykernel -U --user --force-reinstall'"
     ]
    }
   ],
   "source": [
    "def separa_e_arruma(frase):\n",
    "    frase = frase.replace(',', '')\n",
    "    frase = frase.replace(':', '')\n",
    "    frase = frase.replace(';', '')\n",
    "    frase = frase.replace('!', '')\n",
    "    frase = frase.replace('?', '')\n",
    "    frase = frase.replace(',', '')\n",
    "    frase = frase.replace(',', '')\n",
    "    frase = frase.replace('.', '')\n",
    "    frase = frase.replace('(', '')\n",
    "    frase = frase.replace(')', '')\n",
    "    frase = frase.lower()\n",
    "    lista_palavras = frase.split()\n",
    "    return lista_palavras"
   ]
  },
  {
   "cell_type": "code",
   "execution_count": 27,
   "metadata": {},
   "outputs": [
    {
     "name": "stdout",
     "output_type": "stream",
     "text": [
      "['segredos', 'amor', 'vida']\n"
     ]
    }
   ],
   "source": [
    "frase = input('Insira a frase ou música escolhida: ')\n",
    "# se alguém mandar uma música tem que tirar os pontos, vírgulas, etc. para não dar erro\n",
    "lista_palavras = separa_e_arruma(frase)\n",
    "print(lista_palavras)"
   ]
  },
  {
   "cell_type": "code",
   "execution_count": 50,
   "metadata": {},
   "outputs": [
    {
     "name": "stdout",
     "output_type": "stream",
     "text": [
      "Aparição da palavra nas músicas do padre: {'segredos': 1, 'amor': 4, 'vida': 3}\n",
      "Aparição da palavra nas músicas da luísa: {'segredos': 0, 'amor': 6, 'vida': 1}\n",
      "APARIÇÃO TOTAL: {'segredos': 1, 'amor': 10, 'vida': 4}\n"
     ]
    }
   ],
   "source": [
    "dict_padre = {}\n",
    "dict_luisa = {}\n",
    "dict_total = {}\n",
    "\n",
    "for palavra in lista_palavras:\n",
    "    dict_padre[palavra] = 0\n",
    "\n",
    "# QUANTIDADE DE MÚSICAS DO PADRE\n",
    "pasta_musicas_padre = os.listdir(\"data/padre_fabio_de_melo\")\n",
    "aparicao_palavra_padre = 0\n",
    "for arquivos in pasta_musicas_padre:\n",
    "    with open(\"data/padre_fabio_de_melo/\" + arquivos,'r') as abrindo:\n",
    "        conteudo = abrindo.read()\n",
    "        for palavra in lista_palavras:\n",
    "            if palavra in conteudo:\n",
    "                dict_padre[palavra] += 1\n",
    "           \n",
    "\n",
    "print(f\"Aparição da palavra nas músicas do Padre: {dict_padre}\")\n",
    "\n",
    "for palavra in lista_palavras:\n",
    "    dict_luisa[palavra] = 0\n",
    "\n",
    "# QUANTIDADE DE MÚSICAS DA LUIZA\n",
    "pasta_musicas_luisa = os.listdir(\"data/luisa_sonza\")\n",
    "aparicao_palavra_luisa = 0\n",
    "for arquivos in pasta_musicas_luisa:\n",
    "    with open(\"data/luisa_sonza/\" + arquivos,'r') as abrindo:\n",
    "        conteudo = abrindo.read()\n",
    "        for palavra in lista_palavras:\n",
    "            if palavra in conteudo:\n",
    "                dict_luisa[palavra] += 1\n",
    "\n",
    "print(f\"Aparição da palavra nas músicas da Luísa: {dict_luisa}\")\n",
    "\n",
    "for palavra in lista_palavras:\n",
    "    dict_total[palavra] = dict_padre[palavra] + dict_luisa[palavra]\n",
    "\n",
    "print(f\"APARIÇÃO TOTAL: {dict_total}\")\n"
   ]
  },
  {
   "cell_type": "code",
   "execution_count": 49,
   "metadata": {},
   "outputs": [
    {
     "name": "stdout",
     "output_type": "stream",
     "text": [
      "Probabilidade palavra: {'segredos': 0.05, 'amor': 0.5, 'vida': 0.2}\n",
      "Probabilidade não palavra: {'segredos': 0.95, 'amor': 0.5, 'vida': 0.8}\n",
      "Probabilidade palavra dado luisa: {'segredos': 0.0, 'amor': 0.6, 'vida': 0.1}\n",
      "Probabilidade não palavra dado luisa: {'segredos': 1.0, 'amor': 0.4, 'vida': 0.9}\n",
      "Probabilidade palavra dado padre: {'segredos': 0.1, 'amor': 0.4, 'vida': 0.3}\n",
      "Probabilidade não palavra dado padre: {'segredos': 0.9, 'amor': 0.6, 'vida': 0.7}\n"
     ]
    }
   ],
   "source": [
    "dict_p_palavra = {}\n",
    "for palavra in lista_palavras:\n",
    "    dict_p_palavra[palavra] = dict_total[palavra] / total_musicas\n",
    "\n",
    "print(f'Probabilidade palavra: {dict_p_palavra}')\n",
    "\n",
    "dict_p_nao_palavra = {}\n",
    "for palavra in lista_palavras:\n",
    "    dict_p_nao_palavra[palavra] = 1 - dict_p_palavra[palavra]\n",
    "\n",
    "print(f'Probabilidade não palavra: {dict_p_nao_palavra}')\n",
    "\n",
    "#Contas\n",
    "p_padre = quantidade_musicas_padre / total_musicas\n",
    "p_luisa = quantidade_musicas_luisa / total_musicas\n",
    "\n",
    "#LUISA\n",
    "dict_p_palavra_dado_luisa = {}\n",
    "for palavra in lista_palavras:\n",
    "    dict_p_palavra_dado_luisa[palavra] = dict_luisa[palavra] / quantidade_musicas_luisa\n",
    "\n",
    "dict_p_nao_palavra_dado_luisa = {}\n",
    "for palavra in lista_palavras:\n",
    "    dict_p_nao_palavra_dado_luisa[palavra] = 1 - dict_p_palavra_dado_luisa[palavra]\n",
    "\n",
    "print(f'Probabilidade palavra dado luisa: {dict_p_palavra_dado_luisa}')\n",
    "print(f'Probabilidade não palavra dado luisa: {dict_p_nao_palavra_dado_luisa}')\n",
    "\n",
    "\n",
    "#PADRE\n",
    "dict_p_palavra_dado_padre = {}\n",
    "for palavra in lista_palavras:\n",
    "    dict_p_palavra_dado_padre[palavra] = dict_padre[palavra] / quantidade_musicas_padre\n",
    "\n",
    "dict_p_nao_palavra_dado_padre = {}\n",
    "for palavra in lista_palavras:\n",
    "    dict_p_nao_palavra_dado_padre[palavra] = 1 - dict_p_palavra_dado_padre[palavra]\n",
    "\n",
    "print(f'Probabilidade palavra dado padre: {dict_p_palavra_dado_padre}')\n",
    "print(f'Probabilidade não palavra dado padre: {dict_p_nao_palavra_dado_padre}')\n"
   ]
  },
  {
   "cell_type": "code",
   "execution_count": 71,
   "metadata": {},
   "outputs": [
    {
     "name": "stdout",
     "output_type": "stream",
     "text": [
      "0.3157894736842105\n",
      "1.2\n"
     ]
    }
   ],
   "source": [
    "import math \n",
    "\n",
    "multiplicacao_luisa1 = 1\n",
    "multiplicacao_luisa2 = 1\n",
    "for palavra in lista_palavras:\n",
    "    if dict_p_palavra_dado_luisa[palavra] == 0:\n",
    "        multiplicacao_luisa1 *= dict_p_nao_palavra_dado_luisa[palavra]\n",
    "        multiplicacao_luisa2 *= dict_p_nao_palavra[palavra]\n",
    "    else:\n",
    "        multiplicacao_luisa1 *= dict_p_palavra_dado_luisa[palavra]\n",
    "        multiplicacao_luisa2 *= dict_p_palavra[palavra]\n",
    "\n",
    "p_luisa_dado_frase = (multiplicacao_luisa1 * p_luisa) / multiplicacao_luisa2\n",
    "print(p_luisa_dado_frase)\n",
    "\n",
    "multiplicacao_padre1 = 1\n",
    "multiplicacao_padre2 = 1\n",
    "for palavra in lista_palavras:\n",
    "    if dict_p_palavra_dado_padre[palavra] == 0:\n",
    "        multiplicacao_padre1 *= dict_p_nao_palavra_dado_padre[palavra]\n",
    "        multiplicacao_padre2 *= dict_p_nao_palavra[palavra]\n",
    "    else:\n",
    "        multiplicacao_padre1 *= dict_p_palavra_dado_padre[palavra]\n",
    "        multiplicacao_padre2 *= dict_p_palavra[palavra]\n",
    "\n",
    "p_padre_dado_frase = (multiplicacao_padre1 * p_luisa) / multiplicacao_padre2\n",
    "print(p_padre_dado_frase)"
   ]
  }
 ],
 "metadata": {
  "kernelspec": {
   "display_name": ".venv",
   "language": "python",
   "name": "python3"
  },
  "language_info": {
   "codemirror_mode": {
    "name": "ipython",
    "version": 3
   },
   "file_extension": ".py",
   "mimetype": "text/x-python",
   "name": "python",
   "nbconvert_exporter": "python",
   "pygments_lexer": "ipython3",
   "version": "3.9.10"
  },
  "orig_nbformat": 4
 },
 "nbformat": 4,
 "nbformat_minor": 2
}
