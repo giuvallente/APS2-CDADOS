{
 "cells": [
  {
   "cell_type": "code",
   "execution_count": 301,
   "metadata": {},
   "outputs": [
    {
     "name": "stdout",
     "output_type": "stream",
     "text": [
      "Quantidade musicas padre: 20\n",
      "Quantidade musicas luisa: 20\n",
      "Total de músicas: 40\n"
     ]
    }
   ],
   "source": [
    "# import pandas as pd\n",
    "import os\n",
    "\n",
    "# QUANTIDADE DE MUSICAS DO PADRE\n",
    "pasta_musicas_padre = os.listdir(\"data/padre_fabio_de_melo\")\n",
    "quantidade_musicas_padre = 0\n",
    "for arquivos in pasta_musicas_padre:\n",
    "    quantidade_musicas_padre += 1\n",
    "    \n",
    "print(f\"Quantidade musicas padre: {quantidade_musicas_padre}\")\n",
    "\n",
    "# QUANTIDADE DE MUSICAS DA\n",
    "pasta_musicas_luisa = os.listdir(\"data/luisa_sonza\")\n",
    "quantidade_musicas_luisa = 0\n",
    "for arquivos in pasta_musicas_luisa: \n",
    "    quantidade_musicas_luisa += 1\n",
    "    \n",
    "print(f\"Quantidade musicas luisa: {quantidade_musicas_luisa}\")\n",
    "\n",
    "# TOTAL DE MUSICAS\n",
    "total_musicas = quantidade_musicas_padre + quantidade_musicas_luisa\n",
    "print(f\"Total de músicas: {total_musicas}\")"
   ]
  },
  {
   "cell_type": "code",
   "execution_count": 302,
   "metadata": {},
   "outputs": [],
   "source": [
    "def separa_e_arruma(frase):\n",
    "    frase = frase.replace(',', '')\n",
    "    frase = frase.replace(':', '')\n",
    "    frase = frase.replace(';', '')\n",
    "    frase = frase.replace('!', '')\n",
    "    frase = frase.replace('?', '')\n",
    "    frase = frase.replace(',', '')\n",
    "    frase = frase.replace(',', '')\n",
    "    frase = frase.replace('.', '')\n",
    "    frase = frase.replace('(', '')\n",
    "    frase = frase.replace(')', '')\n",
    "    frase = frase.lower()\n",
    "    lista_palavras = frase.split()\n",
    "    return lista_palavras"
   ]
  },
  {
   "cell_type": "markdown",
   "metadata": {},
   "source": [
    "**FAZENDO TESTES DO NOSSO CLASSIFICADOR :)**"
   ]
  },
  {
   "cell_type": "code",
   "execution_count": 308,
   "metadata": {},
   "outputs": [
    {
     "name": "stdout",
     "output_type": "stream",
     "text": [
      "Cachorrinhas.txt\n",
      "vip.txt\n",
      "braba.txt\n",
      "boa_menina.txt\n",
      "dona.txt\n"
     ]
    }
   ],
   "source": [
    "pasta_musicas_padre = os.listdir(\"testes/luisa\")\n",
    "for arquivos in pasta_musicas_padre:\n",
    "    print(arquivos)\n"
   ]
  },
  {
   "cell_type": "code",
   "execution_count": 303,
   "metadata": {},
   "outputs": [
    {
     "name": "stdout",
     "output_type": "stream",
     "text": [
      "['deus', 'é', 'capaz', 'de', 'transformar', 'tua', 'vida', 'o', 'impossível', 'ele', 'fará', 'porque', 'és', 'precioso', 'aos', 'seus', 'olhos', 'e', 'se', 'tiveres', 'a', 'coragem', 'e', 'a', 'loucura', 'de', 'acreditar', 'então', 'irás', 'provar', 'que', 'ele', 'pode', 'muito', 'mais']\n"
     ]
    }
   ],
   "source": [
    "frase = input('Insira a frase ou música escolhida: ')\n",
    "# se alguém mandar uma música tem que tirar os pontos, vírgulas, etc. para não dar erro\n",
    "lista_palavras = separa_e_arruma(frase)\n",
    "print(lista_palavras)"
   ]
  },
  {
   "cell_type": "code",
   "execution_count": 304,
   "metadata": {},
   "outputs": [
    {
     "name": "stdout",
     "output_type": "stream",
     "text": [
      "Aparição da palavra nas músicas do Padre: {'deus': 0, 'é': 17, 'capaz': 0, 'de': 40, 'transformar': 1, 'tua': 4, 'vida': 11, 'o': 20, 'impossível': 1, 'ele': 16, 'fará': 0, 'porque': 0, 'és': 3, 'precioso': 0, 'aos': 3, 'seus': 2, 'olhos': 3, 'e': 40, 'se': 20, 'tiveres': 0, 'a': 40, 'coragem': 0, 'loucura': 0, 'acreditar': 0, 'então': 2, 'irás': 0, 'provar': 0, 'que': 19, 'pode': 3, 'muito': 2, 'mais': 8}\n",
      "Aparição da palavra nas músicas da Luísa: {'deus': 0, 'é': 18, 'capaz': 0, 'de': 40, 'transformar': 0, 'tua': 4, 'vida': 3, 'o': 20, 'impossível': 1, 'ele': 10, 'fará': 0, 'porque': 2, 'és': 0, 'precioso': 0, 'aos': 2, 'seus': 1, 'olhos': 2, 'e': 40, 'se': 19, 'tiveres': 0, 'a': 40, 'coragem': 0, 'loucura': 0, 'acreditar': 0, 'então': 1, 'irás': 0, 'provar': 0, 'que': 19, 'pode': 1, 'muito': 3, 'mais': 12}\n",
      "APARIÇÃO TOTAL: {'deus': 0, 'é': 35, 'capaz': 0, 'de': 80, 'transformar': 1, 'tua': 8, 'vida': 14, 'o': 40, 'impossível': 2, 'ele': 26, 'fará': 0, 'porque': 2, 'és': 3, 'precioso': 0, 'aos': 5, 'seus': 3, 'olhos': 5, 'e': 80, 'se': 39, 'tiveres': 0, 'a': 80, 'coragem': 0, 'loucura': 0, 'acreditar': 0, 'então': 3, 'irás': 0, 'provar': 0, 'que': 38, 'pode': 4, 'muito': 5, 'mais': 20}\n"
     ]
    }
   ],
   "source": [
    "dict_padre = {}\n",
    "dict_luisa = {}\n",
    "dict_total = {}\n",
    "\n",
    "for palavra in lista_palavras:\n",
    "    dict_padre[palavra] = 0\n",
    "\n",
    "# QUANTIDADE DE MÚSICAS DO PADRE\n",
    "pasta_musicas_padre = os.listdir(\"data/padre_fabio_de_melo\")\n",
    "aparicao_palavra_padre = 0\n",
    "for arquivos in pasta_musicas_padre:\n",
    "    with open(\"data/padre_fabio_de_melo/\" + arquivos,'r') as abrindo:\n",
    "        conteudo = abrindo.read()\n",
    "        for palavra in lista_palavras:\n",
    "            if palavra in conteudo:\n",
    "                dict_padre[palavra] += 1\n",
    "           \n",
    "\n",
    "print(f\"Aparição da palavra nas músicas do Padre: {dict_padre}\")\n",
    "\n",
    "for palavra in lista_palavras:\n",
    "    dict_luisa[palavra] = 0\n",
    "\n",
    "# QUANTIDADE DE MÚSICAS DA LUIZA\n",
    "pasta_musicas_luisa = os.listdir(\"data/luisa_sonza\")\n",
    "aparicao_palavra_luisa = 0\n",
    "for arquivos in pasta_musicas_luisa:\n",
    "    with open(\"data/luisa_sonza/\" + arquivos,'r') as abrindo:\n",
    "        conteudo = abrindo.read()\n",
    "        for palavra in lista_palavras:\n",
    "            if palavra in conteudo:\n",
    "                dict_luisa[palavra] += 1\n",
    "\n",
    "print(f\"Aparição da palavra nas músicas da Luísa: {dict_luisa}\")\n",
    "\n",
    "for palavra in lista_palavras:\n",
    "    dict_total[palavra] = dict_padre[palavra] + dict_luisa[palavra]\n",
    "\n",
    "print(f\"APARIÇÃO TOTAL: {dict_total}\")\n"
   ]
  },
  {
   "cell_type": "code",
   "execution_count": 305,
   "metadata": {},
   "outputs": [
    {
     "name": "stdout",
     "output_type": "stream",
     "text": [
      "Probabilidade palavra: {'deus': 0.0, 'é': 0.875, 'capaz': 0.0, 'de': 2.0, 'transformar': 0.025, 'tua': 0.2, 'vida': 0.35, 'o': 1.0, 'impossível': 0.05, 'ele': 0.65, 'fará': 0.0, 'porque': 0.05, 'és': 0.075, 'precioso': 0.0, 'aos': 0.125, 'seus': 0.075, 'olhos': 0.125, 'e': 2.0, 'se': 0.975, 'tiveres': 0.0, 'a': 2.0, 'coragem': 0.0, 'loucura': 0.0, 'acreditar': 0.0, 'então': 0.075, 'irás': 0.0, 'provar': 0.0, 'que': 0.95, 'pode': 0.1, 'muito': 0.125, 'mais': 0.5}\n",
      "Probabilidade não palavra: {'deus': 1.0, 'é': 0.125, 'capaz': 1.0, 'de': -1.0, 'transformar': 0.975, 'tua': 0.8, 'vida': 0.65, 'o': 0.0, 'impossível': 0.95, 'ele': 0.35, 'fará': 1.0, 'porque': 0.95, 'és': 0.925, 'precioso': 1.0, 'aos': 0.875, 'seus': 0.925, 'olhos': 0.875, 'e': -1.0, 'se': 0.025000000000000022, 'tiveres': 1.0, 'a': -1.0, 'coragem': 1.0, 'loucura': 1.0, 'acreditar': 1.0, 'então': 0.925, 'irás': 1.0, 'provar': 1.0, 'que': 0.050000000000000044, 'pode': 0.9, 'muito': 0.875, 'mais': 0.5}\n",
      "Probabilidade palavra dado luisa: {'deus': 0.0, 'é': 0.9, 'capaz': 0.0, 'de': 2.0, 'transformar': 0.0, 'tua': 0.2, 'vida': 0.15, 'o': 1.0, 'impossível': 0.05, 'ele': 0.5, 'fará': 0.0, 'porque': 0.1, 'és': 0.0, 'precioso': 0.0, 'aos': 0.1, 'seus': 0.05, 'olhos': 0.1, 'e': 2.0, 'se': 0.95, 'tiveres': 0.0, 'a': 2.0, 'coragem': 0.0, 'loucura': 0.0, 'acreditar': 0.0, 'então': 0.05, 'irás': 0.0, 'provar': 0.0, 'que': 0.95, 'pode': 0.05, 'muito': 0.15, 'mais': 0.6}\n",
      "Probabilidade não palavra dado luisa: {'deus': 1.0, 'é': 0.09999999999999998, 'capaz': 1.0, 'de': -1.0, 'transformar': 1.0, 'tua': 0.8, 'vida': 0.85, 'o': 0.0, 'impossível': 0.95, 'ele': 0.5, 'fará': 1.0, 'porque': 0.9, 'és': 1.0, 'precioso': 1.0, 'aos': 0.9, 'seus': 0.95, 'olhos': 0.9, 'e': -1.0, 'se': 0.050000000000000044, 'tiveres': 1.0, 'a': -1.0, 'coragem': 1.0, 'loucura': 1.0, 'acreditar': 1.0, 'então': 0.95, 'irás': 1.0, 'provar': 1.0, 'que': 0.050000000000000044, 'pode': 0.95, 'muito': 0.85, 'mais': 0.4}\n",
      "Probabilidade palavra dado padre: {'deus': 0.0, 'é': 0.85, 'capaz': 0.0, 'de': 2.0, 'transformar': 0.05, 'tua': 0.2, 'vida': 0.55, 'o': 1.0, 'impossível': 0.05, 'ele': 0.8, 'fará': 0.0, 'porque': 0.0, 'és': 0.15, 'precioso': 0.0, 'aos': 0.15, 'seus': 0.1, 'olhos': 0.15, 'e': 2.0, 'se': 1.0, 'tiveres': 0.0, 'a': 2.0, 'coragem': 0.0, 'loucura': 0.0, 'acreditar': 0.0, 'então': 0.1, 'irás': 0.0, 'provar': 0.0, 'que': 0.95, 'pode': 0.15, 'muito': 0.1, 'mais': 0.4}\n",
      "Probabilidade não palavra dado padre: {'deus': 1.0, 'é': 0.15000000000000002, 'capaz': 1.0, 'de': -1.0, 'transformar': 0.95, 'tua': 0.8, 'vida': 0.44999999999999996, 'o': 0.0, 'impossível': 0.95, 'ele': 0.19999999999999996, 'fará': 1.0, 'porque': 1.0, 'és': 0.85, 'precioso': 1.0, 'aos': 0.85, 'seus': 0.9, 'olhos': 0.85, 'e': -1.0, 'se': 0.0, 'tiveres': 1.0, 'a': -1.0, 'coragem': 1.0, 'loucura': 1.0, 'acreditar': 1.0, 'então': 0.9, 'irás': 1.0, 'provar': 1.0, 'que': 0.050000000000000044, 'pode': 0.85, 'muito': 0.9, 'mais': 0.6}\n"
     ]
    }
   ],
   "source": [
    "dict_p_palavra = {}\n",
    "for palavra in lista_palavras:\n",
    "    dict_p_palavra[palavra] = dict_total[palavra] / total_musicas\n",
    "\n",
    "print(f'Probabilidade palavra: {dict_p_palavra}')\n",
    "\n",
    "dict_p_nao_palavra = {}\n",
    "for palavra in lista_palavras:\n",
    "    dict_p_nao_palavra[palavra] = 1 - dict_p_palavra[palavra]\n",
    "\n",
    "print(f'Probabilidade não palavra: {dict_p_nao_palavra}')\n",
    "\n",
    "#Contas\n",
    "p_padre = quantidade_musicas_padre / total_musicas\n",
    "p_luisa = quantidade_musicas_luisa / total_musicas\n",
    "\n",
    "#LUISA\n",
    "dict_p_palavra_dado_luisa = {}\n",
    "for palavra in lista_palavras:\n",
    "    dict_p_palavra_dado_luisa[palavra] = dict_luisa[palavra] / quantidade_musicas_luisa\n",
    "\n",
    "dict_p_nao_palavra_dado_luisa = {}\n",
    "for palavra in lista_palavras:\n",
    "    dict_p_nao_palavra_dado_luisa[palavra] = 1 - dict_p_palavra_dado_luisa[palavra]\n",
    "\n",
    "print(f'Probabilidade palavra dado luisa: {dict_p_palavra_dado_luisa}')\n",
    "print(f'Probabilidade não palavra dado luisa: {dict_p_nao_palavra_dado_luisa}')\n",
    "\n",
    "\n",
    "#PADRE\n",
    "dict_p_palavra_dado_padre = {}\n",
    "for palavra in lista_palavras:\n",
    "    dict_p_palavra_dado_padre[palavra] = dict_padre[palavra] / quantidade_musicas_padre\n",
    "\n",
    "dict_p_nao_palavra_dado_padre = {}\n",
    "for palavra in lista_palavras:\n",
    "    dict_p_nao_palavra_dado_padre[palavra] = 1 - dict_p_palavra_dado_padre[palavra]\n",
    "\n",
    "print(f'Probabilidade palavra dado padre: {dict_p_palavra_dado_padre}')\n",
    "print(f'Probabilidade não palavra dado padre: {dict_p_nao_palavra_dado_padre}')\n"
   ]
  },
  {
   "cell_type": "code",
   "execution_count": 306,
   "metadata": {},
   "outputs": [
    {
     "name": "stdout",
     "output_type": "stream",
     "text": [
      "0.05771298802055028\n",
      "12.270768182567089\n"
     ]
    }
   ],
   "source": [
    "import math \n",
    "\n",
    "numerador_luisa = 1\n",
    "denominador_luisa = 1\n",
    "for palavra in lista_palavras:\n",
    "    if dict_p_palavra_dado_luisa[palavra] == 0:\n",
    "        numerador_luisa *= dict_p_nao_palavra_dado_luisa[palavra]\n",
    "        denominador_luisa *= dict_p_nao_palavra[palavra]\n",
    "    else:\n",
    "        numerador_luisa *= dict_p_palavra_dado_luisa[palavra]\n",
    "        denominador_luisa *= dict_p_palavra[palavra]\n",
    "\n",
    "p_luisa_dado_frase = (numerador_luisa * p_luisa) / denominador_luisa\n",
    "print(p_luisa_dado_frase)\n",
    "\n",
    "numerador_padre = 1\n",
    "denominador_padre = 1\n",
    "for palavra in lista_palavras:\n",
    "    if dict_p_palavra_dado_padre[palavra] == 0:\n",
    "        numerador_padre *= dict_p_nao_palavra_dado_padre[palavra]\n",
    "        denominador_padre *= dict_p_nao_palavra[palavra]\n",
    "    else:\n",
    "        numerador_padre *= dict_p_palavra_dado_padre[palavra]\n",
    "        denominador_padre *= dict_p_palavra[palavra]\n",
    "\n",
    "p_padre_dado_frase = (numerador_padre * p_padre) / denominador_padre\n",
    "print(p_padre_dado_frase)"
   ]
  }
 ],
 "metadata": {
  "kernelspec": {
   "display_name": ".venv",
   "language": "python",
   "name": "python3"
  },
  "language_info": {
   "codemirror_mode": {
    "name": "ipython",
    "version": 3
   },
   "file_extension": ".py",
   "mimetype": "text/x-python",
   "name": "python",
   "nbconvert_exporter": "python",
   "pygments_lexer": "ipython3",
   "version": "3.10.9"
  },
  "orig_nbformat": 4
 },
 "nbformat": 4,
 "nbformat_minor": 2
}
